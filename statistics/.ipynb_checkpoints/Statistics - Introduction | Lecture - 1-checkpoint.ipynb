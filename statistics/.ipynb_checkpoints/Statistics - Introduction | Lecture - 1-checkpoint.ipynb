{
 "cells": [
  {
   "cell_type": "markdown",
   "metadata": {},
   "source": [
    "# Introduction\n",
    "## Statistics - 101\n",
    "\n",
    "Hi Readers,\n",
    "\n",
    "This is a set of series of chapters which would cover essential statistical topics from Data Science perspective and we would try to cover as much depth of the topic with literature, examples, visualizations and further read. \n",
    "\n",
    "You would find a great reference from two of my favorite books and few of my lecture notes to cover the breadth of the topic. You would find a great learning text from these books and we do not have intention to plagiarise their honest effort. My best approach is to summarise from various texts into one py notebook for the sole purpose to learn and revise. This notebook would serve best purpose for somebody who either needs to start with statistics for DS and for somebody who just needs to revise concepts from time to time like me.\n",
    "\n",
    "1. The Elements of Statistical Learnining <br>\n",
    "https://web.stanford.edu/~hastie/Papers/ESLII.pdf <br>\n",
    "By - Trevor Hastie <br>\n",
    "Robert Tibshirani<br>\n",
    "Jerome Friedman<br>\n",
    "<br>\n",
    "2. Introduction to Statistical Learning<br>\n",
    "https://www.ime.unicamp.br/~dias/Intoduction%20to%20Statistical%20Learning.pdf <br>\n",
    "By - Gareth James<br>\n",
    "Daniela Witten<br>\n",
    "Trevor Hastie<br>\n",
    "Robert Tibshirani<br>"
   ]
  },
  {
   "cell_type": "markdown",
   "metadata": {},
   "source": [
    "## Contents:\n",
    "\n",
    "We would be essentially covering some of the fundamentals of statistics in this notebook and would lay the ground of descriptive analytics.\n",
    "\n",
    "A. Statistical Learning <br>\n",
    "B. Basic Statistical Terminologies\n",
    "    1. Population\n",
    "    2. Sample\n",
    "    3. Data types\n",
    "    4. Type of Data\n",
    "C. Measure | Variablility | Spread of Data <br>\n",
    "    1. Central Tendencies\n",
    "    2. Range\n",
    "    3. Quartiles\n",
    "    4. InterQuartile Range (IQR)\n",
    "    5. Variance\n",
    "    6. Standard Score\n",
    "    7. Standard Deviation\n",
    "D. Types of Statistics\n",
    "    1. Descriptive Statistics\n",
    "    2. Inferential Statistics\n",
    "    3. Prescriptive Statistics\n",
    "E. Probabilty <br>\n",
    "F. Probability Types <br>\n",
    "G. Probability Distribution <br>\n",
    "H. Distribution and types of Distribution <br>\n",
    "I. Features of the Distribution<br>\n",
    "    1. Expectation\n",
    "    2. Variance\n",
    "    3. Skewness\n",
    "    4. Kurtosis\n",
    "J. Sampling Distribution of Means <br>\n",
    "K. Sampling Distribution of Variances <br>\n",
    "L. Central Limit Theoram <br>\n",
    "M. Bayes Theoram <br>\n",
    "N. Confidence Interval and Confidence Level <br>\n",
    "O. Proportion <br>\n",
    "P. Hypothesis Testing <br>\n",
    "Q. Statistical Tests <br>\n",
    "R. Comparison of Statistical Tests <br>\n",
    "S. ML onset <br>"
   ]
  },
  {
   "cell_type": "markdown",
   "metadata": {},
   "source": [
    "## A. Statistical Learning \n",
    "\n",
    "Statistical Learning Theory is a framework of machine learning drawing from the field of statistics and mathematics functional analysis. The prime objective of statistical learning is to find a predictive function given the data.\n",
    "\n",
    "Take $X$ to be the vector space of all possible inputs, and $Y$ to be the vector space of all possible outputs. Statistical learning theory takes the perspective that there is some unknown probability distribution over the product space $Z$ = $X$ x $Y$, i.e. there exists some unknown $p(z)=p({\\vec  {x}},y)$\n",
    "\n",
    "The training set is made up of ${\\displaystyle n}$ samples from this probability distribution, and is notated\n",
    "\n",
    "${\\displaystyle S=\\{({\\vec {x}}_{1},y_{1}),\\dots ,({\\vec {x}}_{n},y_{n})\\}=\\{{\\vec {z}}_{1},\\dots ,{\\vec {z}}_{n}\\}}$\n",
    "\n",
    "Every ${\\displaystyle {\\vec {x}}_{i}}$ is an input vector from the training data, and ${\\displaystyle y_{i}}$ is the output that corresponds to it.\n",
    "\n",
    "### Advance Topic\n",
    "#### A.2 Computational Learning Theory\n",
    "Computational Learning theory framework is a subfield of AI which studies design and analysis of ML Algorithms.\n",
    "\n",
    "Theoretical results in machine learning mainly deal with a type of inductive learning called supervised learning. In supervised learning, an algorithm is given samples that are labeled in some useful way. For example, the samples might be descriptions of mushrooms, and the labels could be whether or not the mushrooms are edible. The algorithm takes these previously labeled samples and uses them to induce a classifier. This classifier is a function that assigns labels to samples, including samples that have not been seen previously by the algorithm. The goal of the supervised learning algorithm is to optimise some measure of performance such as minimising the number of mistakes made on new samples.\n",
    "\n",
    "Computational Learning theory studies the time complexity and feasibility of learning. Computation is considered feasible if it can be done in polynomial time.\n",
    "\n"
   ]
  },
  {
   "cell_type": "markdown",
   "metadata": {},
   "source": [
    "# B. Basic Statistical Terminologies\n",
    "1.  <b>Population</b>: In statistics, population refers to similar items which is an interest for some set of questions or experiments. The population consists of similar family elements, for example - a family of flowers, species of cat, etc. Usually a smaple is too large to do any analysis, we do take a chunk (<i>in statistical terms - sample</i>) of this population to do further analysis. <br><br>\n",
    "\n",
    "2. <b>Sample</b>: As we discussed in the previous definition a sample is a chunk of the population of data. This sample represents the entire population and would have same paramters (<i>discussed later</i>). In other words, Sample is a subpopulation of the entire population, such that any analysis done on the sample is true for the population.\n",
    "<br><br>\n",
    "\n",
    "3. <b>Sampling</b>: Sampling refers to a technique where we choose a sample from the population. This is a very tricky technique, and would also use domain knowledge depending on the problem. \n",
    "<br><br>"
   ]
  },
  {
   "cell_type": "code",
   "execution_count": 79,
   "metadata": {},
   "outputs": [],
   "source": [
    "#importing dependencies\n",
    "import matplotlib.pyplot as plt #for visualizations\n",
    "import seaborn as sns #for advance visualizations\n",
    "import numpy as np #for mathematical operations\n",
    "import scipy # for scientific python\n",
    "from pylab import *\n",
    "sns.set(rc={'figure.figsize':(17,6)})"
   ]
  },
  {
   "cell_type": "code",
   "execution_count": 70,
   "metadata": {},
   "outputs": [
    {
     "name": "stdout",
     "output_type": "stream",
     "text": [
      "Population - [1, 2, 3, 4, 5, 6, 7, 8, 9, 10, 11, 12, 13, 14, 15, 16, 17, 18, 19, 20, 21, 22, 23, 24, 25, 26, 27, 28, 29, 30, 31, 32, 33, 34, 35, 36, 37, 38, 39, 40, 41, 42, 43, 44, 45, 46, 47, 48, 49, 50, 51, 52, 53, 54, 55, 56, 57, 58, 59, 60, 61, 62, 63, 64, 65, 66, 67, 68, 69, 70, 71, 72, 73, 74, 75, 76, 77, 78, 79, 80, 81, 82, 83, 84, 85, 86, 87, 88, 89, 90, 91, 92, 93, 94, 95, 96, 97, 98, 99]\n",
      "Sample [27 73 48 89 28 50 52 22 16 76]\n"
     ]
    }
   ],
   "source": [
    "#For example:\n",
    "import numpy as np\n",
    "\n",
    "#creating population\n",
    "population = list(range(1,100))\n",
    "print('Population -',population)\n",
    "\n",
    "#choose a sample\n",
    "sample = np.random.choice(population, size=10)\n",
    "print('Sample', sample)"
   ]
  },
  {
   "cell_type": "markdown",
   "metadata": {},
   "source": [
    "In the above example, we have taken a population of 100 integers as the population and a size of 10 as sample. Here we chose the random choice as a sampling strategy. This is a simplest example, and in real world problems we would not be so naive, and would depend upon a lot of factors to do sampling."
   ]
  },
  {
   "cell_type": "markdown",
   "metadata": {},
   "source": [
    "4. <b>Data Types </b>: We deal with essentially two types of data. <br>\n",
    "    a. Categorical Data<br>\n",
    "    b. Numerical Data<br>"
   ]
  },
  {
   "cell_type": "code",
   "execution_count": 71,
   "metadata": {},
   "outputs": [
    {
     "data": {
      "text/html": [
       "<img src=\"http://survivestatistics.com/wp-content/uploads/2016/07/variables3.jpg\"/>"
      ],
      "text/plain": [
       "<IPython.core.display.Image object>"
      ]
     },
     "execution_count": 71,
     "metadata": {},
     "output_type": "execute_result"
    }
   ],
   "source": [
    "from IPython.display import Image\n",
    "from IPython.core.display import HTML \n",
    "Image(url= \"http://survivestatistics.com/wp-content/uploads/2016/07/variables3.jpg\")"
   ]
  },
  {
   "cell_type": "markdown",
   "metadata": {},
   "source": [
    "Numerical Data is made of numbers and would either signify by how much a value is bigger than another value. Numerical data is further classfied into two subparts.\n",
    "<br><br>\n",
    "    (i) Continuous Data: Continuous data is any float number data, for example - weight (65.7 kgs), age(5.4 years), etc <br>\n",
    "    (ii) Discrete Data: Discrete is any whole number data, for example - Number of children (3), shoe size (5,6,7)\n",
    " <br><br>\n",
    "Categorical Data are classes of a data which is not a number (not always), for example when we classify a hotel on how good their services are terms like 4-star hotel comes up, this means that we have a category of hotels and this particular hotel comes under 4-star hotel. Categorical data is further classified under the following categories:\n",
    "<br><br>\n",
    "   (i) Ordinal Data: This is a category where each category is batter than the previous one, for example hotel rating, satifaction rating, etc. <br>\n",
    "   (ii) Nominal Data: This is category which signifies different classes but have no order, for example male female, blood type, etc."
   ]
  },
  {
   "cell_type": "markdown",
   "metadata": {},
   "source": [
    "# C. Measure | Variability | Spread of data\n",
    "\n",
    "1.<b> Central Tendencies</b>: Central tendencies tells us the pivoted points where our data is centered around. We used these measures in our class 10 statistics classes. The following are the measure of central tendencies for a distribution.\n",
    "<br><br>\n",
    "<b>(i) Mean:</b> Mean or Arithmetic mean is the average value of the entire data in the distribution. <br>\n",
    "Let us consider data points from $a_1$, $a_2$,$a_3$,.....,$a_n$, then the mean of this distribution is calculated by <br>\n",
    "${\\displaystyle A={\\frac {1}{n}}\\sum _{i=1}^{n}a_{i}={\\frac {a_{1}+a_{2}+\\cdots +a_{n}}{n}}}$\n",
    "\n",
    "For example, let us consider the monthly salary of 10 employees of a firm: 2500, 2700, 2400, 2300, 2550, 2650, 2750, 2450, 2600, 2400. The arithmetic mean is\n",
    "\n",
    "${\\displaystyle {\\frac {2500+2700+2400+2300+2550+2650+2750+2450+2600+2400}{10}}=2530.}$\n",
    "<br> <br><b>(ii) Median:</b> Median is the middle value in a distribution that seperated higher values from the smaller values.\n",
    "\n",
    "The median of a finite list of numbers can be found by arranging all the numbers from smallest to greatest.\n",
    "\n",
    "If there is an odd number of numbers, the middle one is picked. For example, consider the list of numbers\n",
    "\n",
    "1, 3, 3, 6, 7, 8, 9\n",
    "This list contains seven numbers. The median is the fourth of them, which is 6.\n",
    "\n",
    "If there is an even number of observations, then there is no single middle value; the median is then usually defined to be the mean of the two middle values. For example, in the data set\n",
    "\n",
    "1, 2, 3, 4, 5, 6, 8, 9\n",
    "the median is the mean of the middle two numbers: this is ${\\displaystyle (4+5)/2}$, which is ${\\displaystyle 4.5}$\n",
    "\n",
    "<br><b>(iii) Mode:</b> The mode of a set of data values is the value that appears most often. If X is a discrete random variable, the mode is the value x (i.e, X = x) at which the probability mass function takes its maximum value. In other words, it is the value that is most likely to be sampled."
   ]
  },
  {
   "cell_type": "markdown",
   "metadata": {},
   "source": [
    "<b>2. Range:</b> the range of a set of data is the difference between the largest and smallest values.\n",
    "        <br>Range = $X_l$ - $X_s$\n",
    "\n",
    "<b>3. Quartiles:</b> In statistics and probability quantiles are cut points dividing the range of a probability distribution into continuous intervals with equal probabilities, or dividing the observations in a sample in the same way. There is one less quantile than the number of groups created. Thus quartiles are the three cut points that will divide a dataset into four equal-sized groups. Common quantiles have special names: for instance quartile, decile\n",
    "\n",
    "<b>4. InterQuartile Range (IQR):</b> is a measure of statistical dispersion, being equal to the difference between 75th and 25th percentiles, or between upper and lower quartiles, IQR = Q3 −  Q1. In other words, the IQR is the first quartile subtracted from the third quartile; these quartiles can be clearly seen on a box plot on the data. It is a trimmed estimator, defined as the 25% trimmed range\n",
    "\n",
    "<b>5. Variance:</b>  It measures how far a set of (random) numbers are spread out from their average value. variance is the expectation of the squared deviation of a random variable from its mean.<br>\n",
    "$\\operatorname {Var} (X)=\\operatorname {E} \\left[(X-\\mu )^{2}\\right]$. <br><br>\n",
    "<b>6. Standard Score:</b> The standard score is the signed fractional number of standard deviations by which the value of an observation or data point is above the mean value of what is being observed or measured. Observed values above the mean have positive standard scores, while values below the mean have negative standard scores.\n",
    "    \n",
    "    ${\\displaystyle z={x-{\\bar {x}} \\over S}}$\n",
    "where:\n",
    "\n",
    "${\\displaystyle {\\bar {x}}}$ is the mean of the sample. <br>\n",
    "S is the standard deviation of the sample.\n",
    "\n",
    "<b>7. Standard Deviation: </b> In statistics, the standard deviation (SD, also represented by the lower case Greek letter sigma σ or the Latin letter s) is a measure that is used to quantify the amount of variation or dispersion of a set of data values. A low standard deviation indicates that the data points tend to be close to the mean (also called the expected value) of the set, while a high standard deviation indicates that the data points are spread out over a wider range of values.\n",
    "\n",
    "The standard deviation of a random variable, statistical population, data set, or probability distribution is the square root of its variance."
   ]
  },
  {
   "cell_type": "code",
   "execution_count": 84,
   "metadata": {},
   "outputs": [
    {
     "name": "stderr",
     "output_type": "stream",
     "text": [
      "/anaconda3/lib/python3.6/site-packages/matplotlib/axes/_axes.py:6462: UserWarning: The 'normed' kwarg is deprecated, and has been replaced by the 'density' kwarg.\n",
      "  warnings.warn(\"The 'normed' kwarg is deprecated, and has been \"\n"
     ]
    },
    {
     "data": {
      "text/plain": [
       "Text(0.5,1,'Box Plot')"
      ]
     },
     "execution_count": 84,
     "metadata": {},
     "output_type": "execute_result"
    },
    {
     "data": {
      "image/png": "[encoded data removed]",
      "text/plain": [
       "<Figure size 1224x432 with 2 Axes>"
      ]
     },
     "metadata": {},
     "output_type": "display_data"
    }
   ],
   "source": [
    "#example - Let's create a normal distribution\n",
    "normal_distribution = np.random.normal(loc=0.0, scale=1.0, size=1000)\n",
    "plt.subplot(1, 2, 1)\n",
    "sns.distplot(normal_distribution, label = 'Normal Distribution') #plot the distribution\n",
    "plt.legend()\n",
    "plt.title('Histogram Plot')\n",
    "\n",
    "plt.subplot(1, 2, 2)\n",
    "sns.boxplot(normal_distribution)\n",
    "plt.title('Box Plot')"
   ]
  },
  {
   "cell_type": "markdown",
   "metadata": {},
   "source": [
    "The above plots represent the same data, however, there are two different approaches to show the distribution. We can see that the entire data is centered around 0 and hence we can conclude the mean is ~0. Let us find all the values for this distribution"
   ]
  },
  {
   "cell_type": "code",
   "execution_count": 90,
   "metadata": {},
   "outputs": [
    {
     "name": "stdout",
     "output_type": "stream",
     "text": [
      "The mean of the distribution is %d 0.007248572107078879\n",
      "The standard deviation of the distribution is %d 0.9864572095847911\n",
      "The mode of the disribution is %d ModeResult(mode=array([-2.92792941]), count=array([1]))\n",
      "The mean of the disribution is %d 0.007248572107078879\n"
     ]
    }
   ],
   "source": [
    "mean = normal_distribution.mean()\n",
    "print('The mean of the distribution is %d', mean)\n",
    "\n",
    "standard_dev = normal_distribution.std()\n",
    "print('The standard deviation of the distribution is %d', standard_dev)\n",
    "\n",
    "mode = scipy.stats.mode(normal_distribution)\n",
    "print('The mode of the disribution is %d', mode)\n",
    "\n",
    "mean = normal_distribution.mean()\n",
    "print('The mean of the disribution is %d', mean)"
   ]
  },
  {
   "cell_type": "code",
   "execution_count": null,
   "metadata": {},
   "outputs": [],
   "source": []
  }
 ],
 "metadata": {
  "kernelspec": {
   "display_name": "Python 3",
   "language": "python",
   "name": "python3"
  },
  "language_info": {
   "codemirror_mode": {
    "name": "ipython",
    "version": 3
   },
   "file_extension": ".py",
   "mimetype": "text/x-python",
   "name": "python",
   "nbconvert_exporter": "python",
   "pygments_lexer": "ipython3",
   "version": "3.6.7"
  }
 },
 "nbformat": 4,
 "nbformat_minor": 2
}
