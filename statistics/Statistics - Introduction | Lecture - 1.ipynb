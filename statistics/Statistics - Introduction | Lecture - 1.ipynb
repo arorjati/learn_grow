{
 "cells": [
  {
   "cell_type": "markdown",
   "metadata": {},
   "source": [
    "# Introduction\n",
    "## Statistics - 101\n",
    "\n",
    "Hi Readers,\n",
    "\n",
    "This is a set of series of chapters which would cover essential statistical topics from Data Science perspective and we would try to cover as much depth of the topic with literature, examples, visualizations and further read. \n",
    "\n",
    "You would find a great reference from two of my favorite books and few of my lecture notes to cover the breadth of the topic. You would find a great learning text from these books and we do not have intention to plagiarise their honest effort. My best approach is to summarise from various texts into one py notebook for the sole purpose to learn and revise. This notebook would serve best purpose for somebody who either needs to start with statistics for DS and for somebody who just needs to revise concepts from time to time like me.\n",
    "\n",
    "1. The Elements of Statistical Learnining <br>\n",
    "https://web.stanford.edu/~hastie/Papers/ESLII.pdf <br>\n",
    "By - Trevor Hastie <br>\n",
    "Robert Tibshirani<br>\n",
    "Jerome Friedman<br>\n",
    "<br>\n",
    "2. Introduction to Statistical Learning<br>\n",
    "https://www.ime.unicamp.br/~dias/Intoduction%20to%20Statistical%20Learning.pdf <br>\n",
    "By - Gareth James<br>\n",
    "Daniela Witten<br>\n",
    "Trevor Hastie<br>\n",
    "Robert Tibshirani<br>"
   ]
  },
  {
   "cell_type": "markdown",
   "metadata": {},
   "source": [
    "## Contents:\n",
    "\n",
    "We would be essentially covering some of the fundamentals of statistics in this notebook and would lay the ground of descriptive analytics.\n",
    "\n",
    "A. Statistical Learning <br>\n",
    "B. Basic Statistical Terminologies\n",
    "    1. Population\n",
    "    2. Sample\n",
    "    3. Data types\n",
    "    4. Type of Data\n",
    "C. Measure | Variablility | Spread of Data <br>\n",
    "    1. Central Tendencies\n",
    "    2. Range\n",
    "    3. Quartiles\n",
    "    4. InterQuartile Range (IQR)\n",
    "    5. Variance\n",
    "    6. Standard Score\n",
    "    7. Standard Deviation\n",
    "D. Types of Statistics\n",
    "    1. Descriptive Statistics\n",
    "    2. Inferential Statistics\n",
    "    3. Prescriptive Statistics\n",
    "E. Probabilty <br>\n",
    "F. Probability Types <br>\n",
    "G. Probability Distribution <br>\n",
    "H. Distribution and types of Distribution <br>\n",
    "I. Features of the Distribution<br>\n",
    "    1. Expectation\n",
    "    2. Variance\n",
    "    3. Skewness\n",
    "    4. Kurtosis\n",
    "J. Sampling Distribution of Means <br>\n",
    "K. Sampling Distribution of Variances <br>\n",
    "L. Central Limit Theoram <br>\n",
    "M. Bayes Theoram <br>\n",
    "N. Confidence Interval and Confidence Level <br>\n",
    "O. Proportion <br>\n",
    "P. Hypothesis Testing <br>\n",
    "Q. Statistical Tests <br>\n",
    "R. Comparison of Statistical Tests <br>\n",
    "S. ML onset <br>"
   ]
  },
  {
   "cell_type": "markdown",
   "metadata": {},
   "source": [
    "## A. Statistical Learning \n",
    "\n",
    "Statistical Learning Theory is a framework of machine learning drawing from the field of statistics and mathematics functional analysis. The prime objective of statistical learning is to find a predictive function given the data.\n",
    "\n",
    "Take $X$ to be the vector space of all possible inputs, and $Y$ to be the vector space of all possible outputs. Statistical learning theory takes the perspective that there is some unknown probability distribution over the product space $Z$ = $X$ x $Y$, i.e. there exists some unknown $p(z)=p({\\vec  {x}},y)$\n",
    "\n",
    "The training set is made up of ${\\displaystyle n}$ samples from this probability distribution, and is notated\n",
    "\n",
    "${\\displaystyle S=\\{({\\vec {x}}_{1},y_{1}),\\dots ,({\\vec {x}}_{n},y_{n})\\}=\\{{\\vec {z}}_{1},\\dots ,{\\vec {z}}_{n}\\}} S=\\{({\\vec  {x}}_{1},y_{1}),\\dots ,({\\vec  {x}}_{n},y_{n})\\}=\\{{\\vec  {z}}_{1},\\dots ,{\\vec  {z}}_{n}\\}$\n",
    "\n",
    "Every ${\\displaystyle {\\vec {x}}_{i}}$ is an input vector from the training data, and ${\\displaystyle y_{i}}$ is the output that corresponds to it.\n",
    "\n",
    "### Advance Topic\n",
    "#### A.2 Computational Learning Theory\n",
    "Computational Learning theory framework is a subfield of AI which studies design and analysis of ML Algorithms.\n",
    "\n",
    "Theoretical results in machine learning mainly deal with a type of inductive learning called supervised learning. In supervised learning, an algorithm is given samples that are labeled in some useful way. For example, the samples might be descriptions of mushrooms, and the labels could be whether or not the mushrooms are edible. The algorithm takes these previously labeled samples and uses them to induce a classifier. This classifier is a function that assigns labels to samples, including samples that have not been seen previously by the algorithm. The goal of the supervised learning algorithm is to optimise some measure of performance such as minimising the number of mistakes made on new samples.\n",
    "\n",
    "Computational Learning theory studies the time complexity and feasibility of learning. Computation is considered feasible if it can be done in polynomial time.\n",
    "\n"
   ]
  },
  {
   "cell_type": "code",
   "execution_count": 3,
   "metadata": {},
   "outputs": [],
   "source": [
    "#importing dependencies\n",
    "import matplotlib.pyplot as plt #for visualizations\n",
    "import seaborn as sns #for advance visualizations\n",
    "import numpy as np #for mathematical operations\n",
    "import scipy # for scientific python\n",
    "from pylab import *"
   ]
  },
  {
   "cell_type": "code",
   "execution_count": null,
   "metadata": {},
   "outputs": [],
   "source": []
  }
 ],
 "metadata": {
  "kernelspec": {
   "display_name": "Python 3",
   "language": "python",
   "name": "python3"
  },
  "language_info": {
   "codemirror_mode": {
    "name": "ipython",
    "version": 3
   },
   "file_extension": ".py",
   "mimetype": "text/x-python",
   "name": "python",
   "nbconvert_exporter": "python",
   "pygments_lexer": "ipython3",
   "version": "3.6.7"
  }
 },
 "nbformat": 4,
 "nbformat_minor": 2
}
