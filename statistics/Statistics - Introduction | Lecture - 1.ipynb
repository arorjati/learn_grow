{
 "cells": [
  {
   "cell_type": "markdown",
   "metadata": {},
   "source": [
    "# Introduction\n",
    "## Statistics - 101\n",
    "\n",
    "Hi Readers,\n",
    "\n",
    "This is a set of series of chapters which would cover essential statistical topics from Data Science perspective and we would try to cover as much depth of the topic with literature, examples, visualizations and further read. \n",
    "\n",
    "You would find a great reference from two of my favorite books and few of my lecture notes to cover the breadth of the topic. You would find a great learning text from these books and we do not have intention to plagiarise their honest effort. My best approach is to summarise from various texts into one py notebook for the sole purpose to learn and revise. This notebook would serve best purpose for somebody who either needs to start with statistics for DS and for somebody who just needs to revise concepts from time to time like me.\n",
    "\n",
    "1. The Elements of Statistical Learnining <br>\n",
    "https://web.stanford.edu/~hastie/Papers/ESLII.pdf <br>\n",
    "By - Trevor Hastie <br>\n",
    "Robert Tibshirani<br>\n",
    "Jerome Friedman<br>\n",
    "<br>\n",
    "2. Introduction to Statistical Learning<br>\n",
    "https://www.ime.unicamp.br/~dias/Intoduction%20to%20Statistical%20Learning.pdf <br>\n",
    "By - Gareth James<br>\n",
    "Daniela Witten<br>\n",
    "Trevor Hastie<br>\n",
    "Robert Tibshirani<br>"
   ]
  },
  {
   "cell_type": "markdown",
   "metadata": {},
   "source": [
    "## Contents:\n",
    "\n",
    "We would be essentially covering some of the fundamentals of statistics in this notebook and would lay the ground of descriptive analytics.\n",
    "\n",
    "A. Statistical Learning <br>\n",
    "B. Basic Statistical Terminologies\n",
    "    1. Population\n",
    "    2. Sample\n",
    "    3. Data types\n",
    "    4. Type of Data\n",
    "C. Measure | Variablility | Spread of Data <br>\n",
    "    1. Range\n",
    "    2. Quartiles\n",
    "    3. InterQuartile Range (IQR)\n",
    "    4. Variance\n",
    "    5. Standard Score\n",
    "    6. Standard Deviation\n",
    "D. Types of Statistics\n",
    "    1. Descriptive Statistics\n",
    "    2. Inferential Statistics\n",
    "    3. Prescriptive Statistics\n",
    "E. Distribution and types of Distribution <br>\n",
    "F. Features of the Distribtion<br>\n",
    "    1. Expectation\n",
    "    2. Variance\n",
    "    3. Skewness\n",
    "    4. Kurtosis\n",
    "G. Probabilty <br>\n",
    "H. Probability Types <br>\n",
    "I. Probability Distribution <br>\n",
    "J. Sampling Distribution of Means <br>\n",
    "K. Sampling Distribution of Variances <br>\n",
    "L. Central Limit Theoram <br>\n",
    "M. Bayes Theoram <br>\n",
    "N. Confidence Interval and Confidence Level <br>\n",
    "O. Proportion <br>\n",
    "P. Hypothesis Testing <br>\n",
    "Q. Statistical Tests <br>\n",
    "R. ML onset <br>"
   ]
  },
  {
   "cell_type": "code",
   "execution_count": 2,
   "metadata": {},
   "outputs": [],
   "source": [
    "import matplotlib.pyplot as plt\n",
    "import seaborn as sns\n",
    "import numpy as np\n",
    "import scipy\n",
    "from pylab import *"
   ]
  },
  {
   "cell_type": "code",
   "execution_count": null,
   "metadata": {},
   "outputs": [],
   "source": []
  }
 ],
 "metadata": {
  "kernelspec": {
   "display_name": "Python 3",
   "language": "python",
   "name": "python3"
  },
  "language_info": {
   "codemirror_mode": {
    "name": "ipython",
    "version": 3
   },
   "file_extension": ".py",
   "mimetype": "text/x-python",
   "name": "python",
   "nbconvert_exporter": "python",
   "pygments_lexer": "ipython3",
   "version": "3.6.7"
  }
 },
 "nbformat": 4,
 "nbformat_minor": 2
}
